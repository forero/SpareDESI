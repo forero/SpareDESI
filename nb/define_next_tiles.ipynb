{
 "cells": [
  {
   "cell_type": "code",
   "execution_count": 8,
   "id": "ec9ccdbb-2601-4276-93d7-e5c68cc69f6f",
   "metadata": {
    "tags": []
   },
   "outputs": [],
   "source": [
    "import numpy as np\n",
    "from astropy.table import Table\n",
    "import matplotlib.pyplot as plt"
   ]
  },
  {
   "cell_type": "code",
   "execution_count": 3,
   "id": "47a52a28-3a6e-4916-a974-427ecdd73930",
   "metadata": {
    "tags": []
   },
   "outputs": [],
   "source": [
    "current_tiles_file = '/global/cfs/cdirs/desi/users/desiproc/surveyops/trunk/ops/tiles-main.ecsv'"
   ]
  },
  {
   "cell_type": "code",
   "execution_count": 4,
   "id": "0a48e1ef-4eba-4453-88d8-93d5ac8e32df",
   "metadata": {
    "tags": []
   },
   "outputs": [],
   "source": [
    "current_tiles = Table.read(current_tiles_file)"
   ]
  },
  {
   "cell_type": "code",
   "execution_count": 5,
   "id": "c99573fd-8152-4716-bdf4-cf356f188487",
   "metadata": {
    "tags": []
   },
   "outputs": [
    {
     "data": {
      "text/html": [
       "<div><i>Table length=25035</i>\n",
       "<table id=\"table139996208673264\" class=\"table-striped table-bordered table-condensed\">\n",
       "<thead><tr><th>TILEID</th><th>PASS</th><th>RA</th><th>DEC</th><th>PROGRAM</th><th>IN_DESI</th><th>PRIORITY</th><th>STATUS</th><th>EBV_MED</th><th>DESIGNHA</th><th>DONEFRAC</th><th>AVAILABLE</th><th>PRIORITY_BOOSTFAC</th></tr></thead>\n",
       "<thead><tr><th>int64</th><th>int32</th><th>float64</th><th>float64</th><th>str6</th><th>bool</th><th>float64</th><th>str8</th><th>float32</th><th>float32</th><th>float32</th><th>bool</th><th>float64</th></tr></thead>\n",
       "<tr><td>1000</td><td>0</td><td>238.282</td><td>0.0</td><td>DARK</td><td>True</td><td>1.458e+00</td><td>done</td><td>0.101</td><td>15.91</td><td>1.1687</td><td>True</td><td>1.000</td></tr>\n",
       "<tr><td>1001</td><td>0</td><td>270.0</td><td>58.282</td><td>DARK</td><td>True</td><td>9.521e-01</td><td>done</td><td>0.044</td><td>31.26</td><td>1.0143</td><td>True</td><td>1.000</td></tr>\n",
       "<tr><td>1002</td><td>0</td><td>0.0</td><td>31.717</td><td>DARK</td><td>True</td><td>1.153e+00</td><td>done</td><td>0.049</td><td>16.62</td><td>1.2018</td><td>True</td><td>1.000</td></tr>\n",
       "<tr><td>1003</td><td>0</td><td>180.0</td><td>31.717</td><td>DARK</td><td>True</td><td>8.483e-01</td><td>unobs</td><td>0.020</td><td>-10.34</td><td>0.0000</td><td>False</td><td>1.000</td></tr>\n",
       "<tr><td>1004</td><td>0</td><td>180.0</td><td>69.094</td><td>DARK</td><td>True</td><td>6.503e-01</td><td>unobs</td><td>0.015</td><td>-8.02</td><td>0.0000</td><td>True</td><td>1.000</td></tr>\n",
       "<tr><td>1005</td><td>0</td><td>200.905</td><td>0.0</td><td>DARK</td><td>True</td><td>1.458e+00</td><td>done</td><td>0.026</td><td>2.82</td><td>0.8615</td><td>True</td><td>1.000</td></tr>\n",
       "<tr><td>1006</td><td>0</td><td>20.905</td><td>0.0</td><td>DARK</td><td>True</td><td>1.458e+00</td><td>done</td><td>0.033</td><td>12.00</td><td>0.9638</td><td>True</td><td>1.000</td></tr>\n",
       "<tr><td>1007</td><td>0</td><td>225.0</td><td>35.264</td><td>DARK</td><td>True</td><td>1.168e+00</td><td>done</td><td>0.014</td><td>11.94</td><td>1.1197</td><td>True</td><td>1.000</td></tr>\n",
       "<tr><td>1008</td><td>0</td><td>159.094</td><td>0.0</td><td>DARK</td><td>True</td><td>1.458e+00</td><td>done</td><td>0.062</td><td>-10.78</td><td>0.9958</td><td>True</td><td>1.000</td></tr>\n",
       "<tr><td>1009</td><td>0</td><td>134.996</td><td>35.266</td><td>DARK</td><td>True</td><td>1.128e+00</td><td>done</td><td>0.030</td><td>-28.31</td><td>1.0798</td><td>True</td><td>1.000</td></tr>\n",
       "<tr><td>...</td><td>...</td><td>...</td><td>...</td><td>...</td><td>...</td><td>...</td><td>...</td><td>...</td><td>...</td><td>...</td><td>...</td><td>...</td></tr>\n",
       "<tr><td>43076</td><td>0</td><td>145.054</td><td>-12.875</td><td>BACKUP</td><td>True</td><td>9.351e-01</td><td>unobs</td><td>0.042</td><td>0.00</td><td>0.0000</td><td>True</td><td>1.000</td></tr>\n",
       "<tr><td>43077</td><td>0</td><td>141.645</td><td>-12.578</td><td>BACKUP</td><td>True</td><td>9.368e-01</td><td>obsstart</td><td>0.044</td><td>0.00</td><td>0.0000</td><td>True</td><td>1.000</td></tr>\n",
       "<tr><td>43078</td><td>0</td><td>133.32</td><td>-7.135</td><td>BACKUP</td><td>True</td><td>1.343e+00</td><td>obsend</td><td>0.029</td><td>0.00</td><td>0.9684</td><td>True</td><td>1.000</td></tr>\n",
       "<tr><td>43079</td><td>0</td><td>124.476</td><td>-1.877</td><td>BACKUP</td><td>True</td><td>1.441e+00</td><td>obsend</td><td>0.060</td><td>0.00</td><td>0.9200</td><td>True</td><td>1.000</td></tr>\n",
       "<tr><td>43080</td><td>0</td><td>146.074</td><td>-16.065</td><td>BACKUP</td><td>True</td><td>9.166e-01</td><td>unobs</td><td>0.060</td><td>0.00</td><td>0.0000</td><td>True</td><td>1.000</td></tr>\n",
       "<tr><td>43081</td><td>0</td><td>148.41</td><td>-13.555</td><td>BACKUP</td><td>True</td><td>1.257e+00</td><td>obsend</td><td>0.055</td><td>0.00</td><td>1.1416</td><td>True</td><td>1.000</td></tr>\n",
       "<tr><td>43082</td><td>0</td><td>148.929</td><td>16.403</td><td>BACKUP</td><td>True</td><td>1.251e+00</td><td>obsstart</td><td>0.031</td><td>0.00</td><td>0.0947</td><td>True</td><td>1.000</td></tr>\n",
       "<tr><td>43083</td><td>0</td><td>128.877</td><td>3.001</td><td>BACKUP</td><td>True</td><td>1.413e+00</td><td>obsend</td><td>0.033</td><td>0.00</td><td>1.0106</td><td>True</td><td>1.000</td></tr>\n",
       "<tr><td>43084</td><td>0</td><td>157.041</td><td>-2.635</td><td>BACKUP</td><td>True</td><td>1.417e+00</td><td>obsend</td><td>0.045</td><td>0.00</td><td>1.1002</td><td>True</td><td>1.000</td></tr>\n",
       "<tr><td>43085</td><td>0</td><td>139.554</td><td>-6.181</td><td>BACKUP</td><td>True</td><td>9.879e-01</td><td>unobs</td><td>0.034</td><td>0.00</td><td>0.0000</td><td>True</td><td>1.000</td></tr>\n",
       "</table></div>"
      ],
      "text/plain": [
       "<Table length=25035>\n",
       "TILEID  PASS    RA     DEC   ... DESIGNHA DONEFRAC AVAILABLE PRIORITY_BOOSTFAC\n",
       "int64  int32 float64 float64 ... float32  float32     bool        float64     \n",
       "------ ----- ------- ------- ... -------- -------- --------- -----------------\n",
       "  1000     0 238.282     0.0 ...    15.91   1.1687      True             1.000\n",
       "  1001     0   270.0  58.282 ...    31.26   1.0143      True             1.000\n",
       "  1002     0     0.0  31.717 ...    16.62   1.2018      True             1.000\n",
       "  1003     0   180.0  31.717 ...   -10.34   0.0000     False             1.000\n",
       "  1004     0   180.0  69.094 ...    -8.02   0.0000      True             1.000\n",
       "  1005     0 200.905     0.0 ...     2.82   0.8615      True             1.000\n",
       "  1006     0  20.905     0.0 ...    12.00   0.9638      True             1.000\n",
       "  1007     0   225.0  35.264 ...    11.94   1.1197      True             1.000\n",
       "  1008     0 159.094     0.0 ...   -10.78   0.9958      True             1.000\n",
       "  1009     0 134.996  35.266 ...   -28.31   1.0798      True             1.000\n",
       "   ...   ...     ...     ... ...      ...      ...       ...               ...\n",
       " 43076     0 145.054 -12.875 ...     0.00   0.0000      True             1.000\n",
       " 43077     0 141.645 -12.578 ...     0.00   0.0000      True             1.000\n",
       " 43078     0  133.32  -7.135 ...     0.00   0.9684      True             1.000\n",
       " 43079     0 124.476  -1.877 ...     0.00   0.9200      True             1.000\n",
       " 43080     0 146.074 -16.065 ...     0.00   0.0000      True             1.000\n",
       " 43081     0  148.41 -13.555 ...     0.00   1.1416      True             1.000\n",
       " 43082     0 148.929  16.403 ...     0.00   0.0947      True             1.000\n",
       " 43083     0 128.877   3.001 ...     0.00   1.0106      True             1.000\n",
       " 43084     0 157.041  -2.635 ...     0.00   1.1002      True             1.000\n",
       " 43085     0 139.554  -6.181 ...     0.00   0.0000      True             1.000"
      ]
     },
     "execution_count": 5,
     "metadata": {},
     "output_type": "execute_result"
    }
   ],
   "source": [
    "current_tiles"
   ]
  },
  {
   "cell_type": "code",
   "execution_count": 51,
   "id": "cacec4e6-5223-4962-9675-f2515436bd6f",
   "metadata": {
    "tags": []
   },
   "outputs": [
    {
     "name": "stdout",
     "output_type": "stream",
     "text": [
      "1961 3368\n"
     ]
    }
   ],
   "source": [
    "in_desi = current_tiles['IN_DESI']\n",
    "is_dark = current_tiles['PROGRAM']=='DARK'\n",
    "is_bright = current_tiles['PROGRAM']=='BRIGHT'\n",
    "is_done = current_tiles['STATUS']=='done'\n",
    "is_available = current_tiles['AVAILABLE']\n",
    "\n",
    "next_bright_tiles = current_tiles[in_desi & is_bright & ~is_done]\n",
    "next_dark_tiles = current_tiles[in_desi & is_dark & ~is_done]\n",
    "\n",
    "print(len(next_bright_tiles), len(next_dark_tiles))\n",
    "program_probe = {'DARK':'ELG', 'BRIGHT':'BGS'}"
   ]
  },
  {
   "cell_type": "code",
   "execution_count": 60,
   "id": "4e9864b0-22da-45a2-a45f-060cdade2362",
   "metadata": {
    "tags": []
   },
   "outputs": [],
   "source": [
    "f = open('run_next_dark_tiles.sh', 'w')\n",
    "for line in next_dark_tiles:\n",
    "    exec_line = f\"fba_launch --doclean n --dr dr9 --dtver 1.1.1 --forcetileid y --gaiadr gaiadr2 --goaltime 1000.0 --goaltype {line['PROGRAM']}\" \n",
    "    exec_line += f\" --ha {line['DESIGNHA']} --hdr_faprgrm {line['PROGRAM']} --hdr_survey main --lookup_sky_source ls \"\n",
    "    exec_line += f\" --margin_gfa 0.4 --margin_petal 0.4 --margin_pos 0.05 --mintfrac 0.85 --mtltime 2024-04-15T00:00:00+00:00 \" \n",
    "    exec_line += f\" --outdir /global/cfs/cdirs/desi/users/forero/fba_sim_next_tiles_20240415 --pmcorr n --pmtime_utc_str 2024-04-15T00:00:00+00:00 \"\n",
    "    exec_line += f\" --program {line['PROGRAM']} --rundate 2024-04-15T00:00:00+00:00 --sbprof {program_probe[line['PROGRAM']]} \"\n",
    "    exec_line += f\" --sky_per_petal 40 --sky_per_slitblock 1 --standards_per_petal 10 --steps tiles,sky,gfa,targ,scnd,too,fa,zip,move --survey main\" \n",
    "    exec_line += f\" --tiledec {line['DEC']} --tileid {line['TILEID']} --tilera {line['RA']} --worldreadable\\n\"\n",
    "    f.write(exec_line)\n",
    "f.close()\n",
    "\n",
    "\n",
    "f = open('run_next_bright_tiles.sh', 'w')\n",
    "for line in next_bright_tiles:\n",
    "    exec_line = f\"fba_launch --doclean n --dr dr9 --dtver 1.1.1 --forcetileid y --gaiadr gaiadr2 --goaltime 1000.0 --goaltype {line['PROGRAM']}\" \n",
    "    exec_line += f\" --ha {line['DESIGNHA']} --hdr_faprgrm {line['PROGRAM']} --hdr_survey main --lookup_sky_source ls \"\n",
    "    exec_line += f\" --margin_gfa 0.4 --margin_petal 0.4 --margin_pos 0.05 --mintfrac 0.85 --mtltime 2024-04-15T00:00:00+00:00 \" \n",
    "    exec_line += f\" --outdir /global/cfs/cdirs/desi/users/forero/fba_sim_next_tiles_20240415 --pmcorr n --pmtime_utc_str 2024-04-15T00:00:00+00:00 \"\n",
    "    exec_line += f\" --program {line['PROGRAM']} --rundate 2024-04-15T00:00:00+00:00 --sbprof {program_probe[line['PROGRAM']]} \"\n",
    "    exec_line += f\" --sky_per_petal 40 --sky_per_slitblock 1 --standards_per_petal 10 --steps tiles,sky,gfa,targ,scnd,too,fa,zip,move --survey main\" \n",
    "    exec_line += f\" --tiledec {line['DEC']} --tileid {line['TILEID']} --tilera {line['RA']} --worldreadable\\n\"\n",
    "    f.write(exec_line)\n",
    "f.close()"
   ]
  },
  {
   "cell_type": "code",
   "execution_count": null,
   "id": "bc7d8b25-fe47-4767-a909-6ae87e468386",
   "metadata": {},
   "outputs": [],
   "source": []
  },
  {
   "cell_type": "code",
   "execution_count": 62,
   "id": "3aa9e9d7-f958-4d71-a8a3-5bbf21f34224",
   "metadata": {
    "tags": []
   },
   "outputs": [
    {
     "data": {
      "text/plain": [
       "14.802777777777777"
      ]
     },
     "execution_count": 62,
     "metadata": {},
     "output_type": "execute_result"
    }
   ],
   "source": [
    "(1961+3368)*10/3600.0"
   ]
  },
  {
   "cell_type": "code",
   "execution_count": null,
   "id": "ea9f082f-f00f-430b-b7cc-8104b07a33c0",
   "metadata": {},
   "outputs": [],
   "source": []
  }
 ],
 "metadata": {
  "kernelspec": {
   "display_name": "DESI main",
   "language": "python",
   "name": "desi-main"
  },
  "language_info": {
   "codemirror_mode": {
    "name": "ipython",
    "version": 3
   },
   "file_extension": ".py",
   "mimetype": "text/x-python",
   "name": "python",
   "nbconvert_exporter": "python",
   "pygments_lexer": "ipython3",
   "version": "3.10.8"
  }
 },
 "nbformat": 4,
 "nbformat_minor": 5
}
